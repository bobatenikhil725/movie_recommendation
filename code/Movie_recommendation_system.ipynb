{
 "cells": [
  {
   "cell_type": "markdown",
   "metadata": {},
   "source": [
    "# TYPES OF RECOMMENDATION SYSTEM\n",
    "## 1. Content based filtering\n",
    "## 2. Collaborative filtering:\n",
    "<img src=\"reccom_sys.jpg\"/>\n"
   ]
  },
  {
   "cell_type": "code",
   "execution_count": 1,
   "metadata": {},
   "outputs": [],
   "source": [
    "#importing libraries\n",
    "import numpy as np\n",
    "import pandas as pd\n",
    "import matplotlib.pyplot as plt\n",
    "from sklearn.cluster import KMeans"
   ]
  },
  {
   "cell_type": "markdown",
   "metadata": {},
   "source": [
    "## Exploring MovieLens Dataset"
   ]
  },
  {
   "cell_type": "code",
   "execution_count": 2,
   "metadata": {},
   "outputs": [],
   "source": [
    "#reading data\n",
    "movies=pd.read_csv('D:/2nd Sem/PatternRecog/Project/ml-latest/ml-latest/movies.csv')\n",
    "ratings=pd.read_csv('D:/2nd Sem/PatternRecog/Project/ml-latest/ml-latest/ratings.csv')"
   ]
  },
  {
   "cell_type": "code",
   "execution_count": 3,
   "metadata": {},
   "outputs": [
    {
     "data": {
      "text/html": [
       "<div>\n",
       "<style scoped>\n",
       "    .dataframe tbody tr th:only-of-type {\n",
       "        vertical-align: middle;\n",
       "    }\n",
       "\n",
       "    .dataframe tbody tr th {\n",
       "        vertical-align: top;\n",
       "    }\n",
       "\n",
       "    .dataframe thead th {\n",
       "        text-align: right;\n",
       "    }\n",
       "</style>\n",
       "<table border=\"1\" class=\"dataframe\">\n",
       "  <thead>\n",
       "    <tr style=\"text-align: right;\">\n",
       "      <th></th>\n",
       "      <th>movieId</th>\n",
       "      <th>title</th>\n",
       "      <th>genres</th>\n",
       "    </tr>\n",
       "  </thead>\n",
       "  <tbody>\n",
       "    <tr>\n",
       "      <th>0</th>\n",
       "      <td>1</td>\n",
       "      <td>Toy Story (1995)</td>\n",
       "      <td>Adventure|Animation|Children|Comedy|Fantasy</td>\n",
       "    </tr>\n",
       "    <tr>\n",
       "      <th>1</th>\n",
       "      <td>2</td>\n",
       "      <td>Jumanji (1995)</td>\n",
       "      <td>Adventure|Children|Fantasy</td>\n",
       "    </tr>\n",
       "    <tr>\n",
       "      <th>2</th>\n",
       "      <td>3</td>\n",
       "      <td>Grumpier Old Men (1995)</td>\n",
       "      <td>Comedy|Romance</td>\n",
       "    </tr>\n",
       "    <tr>\n",
       "      <th>3</th>\n",
       "      <td>4</td>\n",
       "      <td>Waiting to Exhale (1995)</td>\n",
       "      <td>Comedy|Drama|Romance</td>\n",
       "    </tr>\n",
       "    <tr>\n",
       "      <th>4</th>\n",
       "      <td>5</td>\n",
       "      <td>Father of the Bride Part II (1995)</td>\n",
       "      <td>Comedy</td>\n",
       "    </tr>\n",
       "  </tbody>\n",
       "</table>\n",
       "</div>"
      ],
      "text/plain": [
       "   movieId                               title  \\\n",
       "0        1                    Toy Story (1995)   \n",
       "1        2                      Jumanji (1995)   \n",
       "2        3             Grumpier Old Men (1995)   \n",
       "3        4            Waiting to Exhale (1995)   \n",
       "4        5  Father of the Bride Part II (1995)   \n",
       "\n",
       "                                        genres  \n",
       "0  Adventure|Animation|Children|Comedy|Fantasy  \n",
       "1                   Adventure|Children|Fantasy  \n",
       "2                               Comedy|Romance  \n",
       "3                         Comedy|Drama|Romance  \n",
       "4                                       Comedy  "
      ]
     },
     "execution_count": 3,
     "metadata": {},
     "output_type": "execute_result"
    }
   ],
   "source": [
    "movies.head()"
   ]
  },
  {
   "cell_type": "code",
   "execution_count": 4,
   "metadata": {},
   "outputs": [
    {
     "name": "stdout",
     "output_type": "stream",
     "text": [
      "(58098, 3)\n"
     ]
    }
   ],
   "source": [
    "print(movies.shape)"
   ]
  },
  {
   "cell_type": "code",
   "execution_count": 5,
   "metadata": {},
   "outputs": [
    {
     "data": {
      "text/html": [
       "<div>\n",
       "<style scoped>\n",
       "    .dataframe tbody tr th:only-of-type {\n",
       "        vertical-align: middle;\n",
       "    }\n",
       "\n",
       "    .dataframe tbody tr th {\n",
       "        vertical-align: top;\n",
       "    }\n",
       "\n",
       "    .dataframe thead th {\n",
       "        text-align: right;\n",
       "    }\n",
       "</style>\n",
       "<table border=\"1\" class=\"dataframe\">\n",
       "  <thead>\n",
       "    <tr style=\"text-align: right;\">\n",
       "      <th></th>\n",
       "      <th>userId</th>\n",
       "      <th>movieId</th>\n",
       "      <th>rating</th>\n",
       "      <th>timestamp</th>\n",
       "    </tr>\n",
       "  </thead>\n",
       "  <tbody>\n",
       "    <tr>\n",
       "      <th>0</th>\n",
       "      <td>1</td>\n",
       "      <td>307</td>\n",
       "      <td>3.5</td>\n",
       "      <td>1256677221</td>\n",
       "    </tr>\n",
       "    <tr>\n",
       "      <th>1</th>\n",
       "      <td>1</td>\n",
       "      <td>481</td>\n",
       "      <td>3.5</td>\n",
       "      <td>1256677456</td>\n",
       "    </tr>\n",
       "    <tr>\n",
       "      <th>2</th>\n",
       "      <td>1</td>\n",
       "      <td>1091</td>\n",
       "      <td>1.5</td>\n",
       "      <td>1256677471</td>\n",
       "    </tr>\n",
       "    <tr>\n",
       "      <th>3</th>\n",
       "      <td>1</td>\n",
       "      <td>1257</td>\n",
       "      <td>4.5</td>\n",
       "      <td>1256677460</td>\n",
       "    </tr>\n",
       "    <tr>\n",
       "      <th>4</th>\n",
       "      <td>1</td>\n",
       "      <td>1449</td>\n",
       "      <td>4.5</td>\n",
       "      <td>1256677264</td>\n",
       "    </tr>\n",
       "  </tbody>\n",
       "</table>\n",
       "</div>"
      ],
      "text/plain": [
       "   userId  movieId  rating   timestamp\n",
       "0       1      307     3.5  1256677221\n",
       "1       1      481     3.5  1256677456\n",
       "2       1     1091     1.5  1256677471\n",
       "3       1     1257     4.5  1256677460\n",
       "4       1     1449     4.5  1256677264"
      ]
     },
     "execution_count": 5,
     "metadata": {},
     "output_type": "execute_result"
    }
   ],
   "source": [
    "ratings.head()"
   ]
  },
  {
   "cell_type": "code",
   "execution_count": 6,
   "metadata": {},
   "outputs": [
    {
     "name": "stdout",
     "output_type": "stream",
     "text": [
      "(27753444, 4)\n"
     ]
    }
   ],
   "source": [
    "print(ratings.shape)"
   ]
  },
  {
   "cell_type": "code",
   "execution_count": 7,
   "metadata": {},
   "outputs": [
    {
     "data": {
      "text/plain": [
       "<matplotlib.axes._subplots.AxesSubplot at 0x232992fd5e0>"
      ]
     },
     "execution_count": 7,
     "metadata": {},
     "output_type": "execute_result"
    },
    {
     "data": {
      "image/png": "[encoded data removed]",
      "text/plain": [
       "<Figure size 432x288 with 1 Axes>"
      ]
     },
     "metadata": {
      "needs_background": "light"
     },
     "output_type": "display_data"
    }
   ],
   "source": [
    "ratings['rating'].hist(bins=20)"
   ]
  },
  {
   "cell_type": "code",
   "execution_count": 8,
   "metadata": {},
   "outputs": [
    {
     "data": {
      "text/plain": [
       "count    2.775344e+07\n",
       "mean     3.530445e+00\n",
       "std      1.066353e+00\n",
       "min      5.000000e-01\n",
       "25%      3.000000e+00\n",
       "50%      3.500000e+00\n",
       "75%      4.000000e+00\n",
       "max      5.000000e+00\n",
       "Name: rating, dtype: float64"
      ]
     },
     "execution_count": 8,
     "metadata": {},
     "output_type": "execute_result"
    }
   ],
   "source": [
    "ratings['rating'].describe()"
   ]
  },
  {
   "cell_type": "code",
   "execution_count": 9,
   "metadata": {},
   "outputs": [
    {
     "data": {
      "text/plain": [
       "'We have 283228 unique user ids in the data'"
      ]
     },
     "execution_count": 9,
     "metadata": {},
     "output_type": "execute_result"
    }
   ],
   "source": [
    "f\"We have {len(ratings.userId.unique())} unique user ids in the data\""
   ]
  },
  {
   "cell_type": "markdown",
   "metadata": {},
   "source": [
    "# 19 Different GENRE\n",
    "<img src=\"genre.jpg\"/>"
   ]
  },
  {
   "cell_type": "markdown",
   "metadata": {},
   "source": [
    "## Procedure to create Average Genre Rating"
   ]
  },
  {
   "cell_type": "code",
   "execution_count": 15,
   "metadata": {},
   "outputs": [
    {
     "data": {
      "text/html": [
       "<div>\n",
       "<style scoped>\n",
       "    .dataframe tbody tr th:only-of-type {\n",
       "        vertical-align: middle;\n",
       "    }\n",
       "\n",
       "    .dataframe tbody tr th {\n",
       "        vertical-align: top;\n",
       "    }\n",
       "\n",
       "    .dataframe thead th {\n",
       "        text-align: right;\n",
       "    }\n",
       "</style>\n",
       "<table border=\"1\" class=\"dataframe\">\n",
       "  <thead>\n",
       "    <tr style=\"text-align: right;\">\n",
       "      <th></th>\n",
       "      <th>userId</th>\n",
       "      <th>movieId</th>\n",
       "      <th>rating</th>\n",
       "      <th>title</th>\n",
       "      <th>genres</th>\n",
       "    </tr>\n",
       "  </thead>\n",
       "  <tbody>\n",
       "    <tr>\n",
       "      <th>0</th>\n",
       "      <td>1.0</td>\n",
       "      <td>307</td>\n",
       "      <td>3.5</td>\n",
       "      <td>Three Colors: Blue (Trois couleurs: Bleu) (1993)</td>\n",
       "      <td>Drama</td>\n",
       "    </tr>\n",
       "    <tr>\n",
       "      <th>1</th>\n",
       "      <td>6.0</td>\n",
       "      <td>307</td>\n",
       "      <td>4.0</td>\n",
       "      <td>Three Colors: Blue (Trois couleurs: Bleu) (1993)</td>\n",
       "      <td>Drama</td>\n",
       "    </tr>\n",
       "    <tr>\n",
       "      <th>2</th>\n",
       "      <td>56.0</td>\n",
       "      <td>307</td>\n",
       "      <td>4.0</td>\n",
       "      <td>Three Colors: Blue (Trois couleurs: Bleu) (1993)</td>\n",
       "      <td>Drama</td>\n",
       "    </tr>\n",
       "    <tr>\n",
       "      <th>3</th>\n",
       "      <td>71.0</td>\n",
       "      <td>307</td>\n",
       "      <td>5.0</td>\n",
       "      <td>Three Colors: Blue (Trois couleurs: Bleu) (1993)</td>\n",
       "      <td>Drama</td>\n",
       "    </tr>\n",
       "    <tr>\n",
       "      <th>4</th>\n",
       "      <td>84.0</td>\n",
       "      <td>307</td>\n",
       "      <td>3.0</td>\n",
       "      <td>Three Colors: Blue (Trois couleurs: Bleu) (1993)</td>\n",
       "      <td>Drama</td>\n",
       "    </tr>\n",
       "  </tbody>\n",
       "</table>\n",
       "</div>"
      ],
      "text/plain": [
       "   userId  movieId  rating                                             title  \\\n",
       "0     1.0      307     3.5  Three Colors: Blue (Trois couleurs: Bleu) (1993)   \n",
       "1     6.0      307     4.0  Three Colors: Blue (Trois couleurs: Bleu) (1993)   \n",
       "2    56.0      307     4.0  Three Colors: Blue (Trois couleurs: Bleu) (1993)   \n",
       "3    71.0      307     5.0  Three Colors: Blue (Trois couleurs: Bleu) (1993)   \n",
       "4    84.0      307     3.0  Three Colors: Blue (Trois couleurs: Bleu) (1993)   \n",
       "\n",
       "  genres  \n",
       "0  Drama  \n",
       "1  Drama  \n",
       "2  Drama  \n",
       "3  Drama  \n",
       "4  Drama  "
      ]
     },
     "execution_count": 15,
     "metadata": {},
     "output_type": "execute_result"
    }
   ],
   "source": [
    "#preprocessing\n",
    "ratings=ratings.drop(['timestamp'],axis=1)\n",
    "data=pd.merge(ratings,movies,how='outer',on ='movieId')\n",
    "data=data.dropna()\n",
    "data.head()"
   ]
  },
  {
   "cell_type": "code",
   "execution_count": 10,
   "metadata": {},
   "outputs": [
    {
     "data": {
      "text/html": [
       "<div>\n",
       "<style scoped>\n",
       "    .dataframe tbody tr th:only-of-type {\n",
       "        vertical-align: middle;\n",
       "    }\n",
       "\n",
       "    .dataframe tbody tr th {\n",
       "        vertical-align: top;\n",
       "    }\n",
       "\n",
       "    .dataframe thead th {\n",
       "        text-align: right;\n",
       "    }\n",
       "</style>\n",
       "<table border=\"1\" class=\"dataframe\">\n",
       "  <thead>\n",
       "    <tr style=\"text-align: right;\">\n",
       "      <th></th>\n",
       "      <th>movieId</th>\n",
       "      <th>(no genres listed)</th>\n",
       "      <th>Action</th>\n",
       "      <th>Adventure</th>\n",
       "      <th>Animation</th>\n",
       "      <th>Children</th>\n",
       "      <th>Comedy</th>\n",
       "      <th>Crime</th>\n",
       "      <th>Documentary</th>\n",
       "      <th>Drama</th>\n",
       "      <th>...</th>\n",
       "      <th>Film-Noir</th>\n",
       "      <th>Horror</th>\n",
       "      <th>IMAX</th>\n",
       "      <th>Musical</th>\n",
       "      <th>Mystery</th>\n",
       "      <th>Romance</th>\n",
       "      <th>Sci-Fi</th>\n",
       "      <th>Thriller</th>\n",
       "      <th>War</th>\n",
       "      <th>Western</th>\n",
       "    </tr>\n",
       "  </thead>\n",
       "  <tbody>\n",
       "    <tr>\n",
       "      <th>0</th>\n",
       "      <td>1</td>\n",
       "      <td>0</td>\n",
       "      <td>0</td>\n",
       "      <td>1</td>\n",
       "      <td>1</td>\n",
       "      <td>1</td>\n",
       "      <td>1</td>\n",
       "      <td>0</td>\n",
       "      <td>0</td>\n",
       "      <td>0</td>\n",
       "      <td>...</td>\n",
       "      <td>0</td>\n",
       "      <td>0</td>\n",
       "      <td>0</td>\n",
       "      <td>0</td>\n",
       "      <td>0</td>\n",
       "      <td>0</td>\n",
       "      <td>0</td>\n",
       "      <td>0</td>\n",
       "      <td>0</td>\n",
       "      <td>0</td>\n",
       "    </tr>\n",
       "    <tr>\n",
       "      <th>1</th>\n",
       "      <td>2</td>\n",
       "      <td>0</td>\n",
       "      <td>0</td>\n",
       "      <td>1</td>\n",
       "      <td>0</td>\n",
       "      <td>1</td>\n",
       "      <td>0</td>\n",
       "      <td>0</td>\n",
       "      <td>0</td>\n",
       "      <td>0</td>\n",
       "      <td>...</td>\n",
       "      <td>0</td>\n",
       "      <td>0</td>\n",
       "      <td>0</td>\n",
       "      <td>0</td>\n",
       "      <td>0</td>\n",
       "      <td>0</td>\n",
       "      <td>0</td>\n",
       "      <td>0</td>\n",
       "      <td>0</td>\n",
       "      <td>0</td>\n",
       "    </tr>\n",
       "    <tr>\n",
       "      <th>2</th>\n",
       "      <td>3</td>\n",
       "      <td>0</td>\n",
       "      <td>0</td>\n",
       "      <td>0</td>\n",
       "      <td>0</td>\n",
       "      <td>0</td>\n",
       "      <td>1</td>\n",
       "      <td>0</td>\n",
       "      <td>0</td>\n",
       "      <td>0</td>\n",
       "      <td>...</td>\n",
       "      <td>0</td>\n",
       "      <td>0</td>\n",
       "      <td>0</td>\n",
       "      <td>0</td>\n",
       "      <td>0</td>\n",
       "      <td>1</td>\n",
       "      <td>0</td>\n",
       "      <td>0</td>\n",
       "      <td>0</td>\n",
       "      <td>0</td>\n",
       "    </tr>\n",
       "    <tr>\n",
       "      <th>3</th>\n",
       "      <td>4</td>\n",
       "      <td>0</td>\n",
       "      <td>0</td>\n",
       "      <td>0</td>\n",
       "      <td>0</td>\n",
       "      <td>0</td>\n",
       "      <td>1</td>\n",
       "      <td>0</td>\n",
       "      <td>0</td>\n",
       "      <td>1</td>\n",
       "      <td>...</td>\n",
       "      <td>0</td>\n",
       "      <td>0</td>\n",
       "      <td>0</td>\n",
       "      <td>0</td>\n",
       "      <td>0</td>\n",
       "      <td>1</td>\n",
       "      <td>0</td>\n",
       "      <td>0</td>\n",
       "      <td>0</td>\n",
       "      <td>0</td>\n",
       "    </tr>\n",
       "    <tr>\n",
       "      <th>4</th>\n",
       "      <td>5</td>\n",
       "      <td>0</td>\n",
       "      <td>0</td>\n",
       "      <td>0</td>\n",
       "      <td>0</td>\n",
       "      <td>0</td>\n",
       "      <td>1</td>\n",
       "      <td>0</td>\n",
       "      <td>0</td>\n",
       "      <td>0</td>\n",
       "      <td>...</td>\n",
       "      <td>0</td>\n",
       "      <td>0</td>\n",
       "      <td>0</td>\n",
       "      <td>0</td>\n",
       "      <td>0</td>\n",
       "      <td>0</td>\n",
       "      <td>0</td>\n",
       "      <td>0</td>\n",
       "      <td>0</td>\n",
       "      <td>0</td>\n",
       "    </tr>\n",
       "  </tbody>\n",
       "</table>\n",
       "<p>5 rows × 21 columns</p>\n",
       "</div>"
      ],
      "text/plain": [
       "   movieId  (no genres listed)  Action  Adventure  Animation  Children  \\\n",
       "0        1                   0       0          1          1         1   \n",
       "1        2                   0       0          1          0         1   \n",
       "2        3                   0       0          0          0         0   \n",
       "3        4                   0       0          0          0         0   \n",
       "4        5                   0       0          0          0         0   \n",
       "\n",
       "   Comedy  Crime  Documentary  Drama  ...  Film-Noir  Horror  IMAX  Musical  \\\n",
       "0       1      0            0      0  ...          0       0     0        0   \n",
       "1       0      0            0      0  ...          0       0     0        0   \n",
       "2       1      0            0      0  ...          0       0     0        0   \n",
       "3       1      0            0      1  ...          0       0     0        0   \n",
       "4       1      0            0      0  ...          0       0     0        0   \n",
       "\n",
       "   Mystery  Romance  Sci-Fi  Thriller  War  Western  \n",
       "0        0        0       0         0    0        0  \n",
       "1        0        0       0         0    0        0  \n",
       "2        0        1       0         0    0        0  \n",
       "3        0        1       0         0    0        0  \n",
       "4        0        0       0         0    0        0  \n",
       "\n",
       "[5 rows x 21 columns]"
      ]
     },
     "execution_count": 10,
     "metadata": {},
     "output_type": "execute_result"
    }
   ],
   "source": [
    "#Creating seperate column for each genre\n",
    "dummies = movies['genres'].str.get_dummies()\n",
    "dummies=movies.join(dummies)\n",
    "#droping genre and title column\n",
    "dummies.drop(['genres','title'],axis=1,inplace = True)\n",
    "dummies.head()"
   ]
  },
  {
   "cell_type": "code",
   "execution_count": 11,
   "metadata": {},
   "outputs": [
    {
     "name": "stdout",
     "output_type": "stream",
     "text": [
      "Index(['Action', 'Adventure', 'Animation', 'Children', 'Comedy', 'Crime',\n",
      "       'Documentary', 'Drama', 'Fantasy', 'Film-Noir', 'Horror', 'IMAX',\n",
      "       'Musical', 'Mystery', 'Romance', 'Sci-Fi', 'Thriller', 'War',\n",
      "       'Western'],\n",
      "      dtype='object')\n"
     ]
    }
   ],
   "source": [
    "#getting column(genre) names\n",
    "col=dummies.columns\n",
    "col=col.drop(['movieId','(no genres listed)'])\n",
    "print(col)"
   ]
  },
  {
   "cell_type": "code",
   "execution_count": 13,
   "metadata": {},
   "outputs": [
    {
     "data": {
      "text/html": [
       "<div>\n",
       "<style scoped>\n",
       "    .dataframe tbody tr th:only-of-type {\n",
       "        vertical-align: middle;\n",
       "    }\n",
       "\n",
       "    .dataframe tbody tr th {\n",
       "        vertical-align: top;\n",
       "    }\n",
       "\n",
       "    .dataframe thead th {\n",
       "        text-align: right;\n",
       "    }\n",
       "</style>\n",
       "<table border=\"1\" class=\"dataframe\">\n",
       "  <thead>\n",
       "    <tr style=\"text-align: right;\">\n",
       "      <th></th>\n",
       "      <th>Action</th>\n",
       "      <th>Adventure</th>\n",
       "      <th>Animation</th>\n",
       "      <th>Children</th>\n",
       "      <th>Comedy</th>\n",
       "      <th>Crime</th>\n",
       "      <th>Documentary</th>\n",
       "      <th>Drama</th>\n",
       "      <th>Fantasy</th>\n",
       "      <th>Film-Noir</th>\n",
       "      <th>Horror</th>\n",
       "      <th>IMAX</th>\n",
       "      <th>Musical</th>\n",
       "      <th>Mystery</th>\n",
       "      <th>Romance</th>\n",
       "      <th>Sci-Fi</th>\n",
       "      <th>Thriller</th>\n",
       "      <th>War</th>\n",
       "      <th>Western</th>\n",
       "      <th>userId</th>\n",
       "    </tr>\n",
       "  </thead>\n",
       "  <tbody>\n",
       "  </tbody>\n",
       "</table>\n",
       "</div>"
      ],
      "text/plain": [
       "Empty DataFrame\n",
       "Columns: [Action, Adventure, Animation, Children, Comedy, Crime, Documentary, Drama, Fantasy, Film-Noir, Horror, IMAX, Musical, Mystery, Romance, Sci-Fi, Thriller, War, Western, userId]\n",
       "Index: []"
      ]
     },
     "execution_count": 13,
     "metadata": {},
     "output_type": "execute_result"
    }
   ],
   "source": [
    "#creating empty dataframe to store avg. genre rating for each user\n",
    "avg_rating = pd.DataFrame(columns = col)\n",
    "avg_rating[\"userId\"] = \"\"\n",
    "avg_rating.head()"
   ]
  },
  {
   "cell_type": "code",
   "execution_count": 16,
   "metadata": {},
   "outputs": [
    {
     "data": {
      "text/html": [
       "<div>\n",
       "<style scoped>\n",
       "    .dataframe tbody tr th:only-of-type {\n",
       "        vertical-align: middle;\n",
       "    }\n",
       "\n",
       "    .dataframe tbody tr th {\n",
       "        vertical-align: top;\n",
       "    }\n",
       "\n",
       "    .dataframe thead tr th {\n",
       "        text-align: left;\n",
       "    }\n",
       "\n",
       "    .dataframe thead tr:last-of-type th {\n",
       "        text-align: right;\n",
       "    }\n",
       "</style>\n",
       "<table border=\"1\" class=\"dataframe\">\n",
       "  <thead>\n",
       "    <tr>\n",
       "      <th></th>\n",
       "      <th colspan=\"2\" halign=\"left\">rating</th>\n",
       "    </tr>\n",
       "    <tr>\n",
       "      <th></th>\n",
       "      <th>size</th>\n",
       "      <th>mean</th>\n",
       "    </tr>\n",
       "    <tr>\n",
       "      <th>userId</th>\n",
       "      <th></th>\n",
       "      <th></th>\n",
       "    </tr>\n",
       "  </thead>\n",
       "  <tbody>\n",
       "    <tr>\n",
       "      <th>123100.0</th>\n",
       "      <td>23715.0</td>\n",
       "      <td>3.130635</td>\n",
       "    </tr>\n",
       "    <tr>\n",
       "      <th>117490.0</th>\n",
       "      <td>9279.0</td>\n",
       "      <td>3.278424</td>\n",
       "    </tr>\n",
       "    <tr>\n",
       "      <th>134596.0</th>\n",
       "      <td>8381.0</td>\n",
       "      <td>3.198306</td>\n",
       "    </tr>\n",
       "    <tr>\n",
       "      <th>212343.0</th>\n",
       "      <td>7884.0</td>\n",
       "      <td>2.588026</td>\n",
       "    </tr>\n",
       "    <tr>\n",
       "      <th>242683.0</th>\n",
       "      <td>7515.0</td>\n",
       "      <td>3.208317</td>\n",
       "    </tr>\n",
       "  </tbody>\n",
       "</table>\n",
       "</div>"
      ],
      "text/plain": [
       "           rating          \n",
       "             size      mean\n",
       "userId                     \n",
       "123100.0  23715.0  3.130635\n",
       "117490.0   9279.0  3.278424\n",
       "134596.0   8381.0  3.198306\n",
       "212343.0   7884.0  2.588026\n",
       "242683.0   7515.0  3.208317"
      ]
     },
     "execution_count": 16,
     "metadata": {},
     "output_type": "execute_result"
    }
   ],
   "source": [
    "#considering those users who have rated more than 100 movies\n",
    "rating_stats= data.groupby('userId').agg({'rating': [np.size, np.mean]})\n",
    "rating_stats = rating_stats.sort_values([('rating','size')],ascending=False)\n",
    "rating_stats.head()"
   ]
  },
  {
   "cell_type": "code",
   "execution_count": 17,
   "metadata": {},
   "outputs": [],
   "source": [
    "top_user=rating_stats[ rating_stats[('rating','size')]<100].index\n",
    "rating_stats.drop(top_user, inplace = True)\n",
    "r=rating_stats.index"
   ]
  },
  {
   "cell_type": "code",
   "execution_count": 18,
   "metadata": {},
   "outputs": [
    {
     "data": {
      "text/plain": [
       "Float64Index([123100.0, 117490.0, 134596.0, 212343.0, 242683.0, 111908.0,\n",
       "               77609.0,  63783.0, 172357.0, 141955.0,\n",
       "              ...\n",
       "              150933.0,  91199.0, 186263.0, 232018.0,  30868.0, 158174.0,\n",
       "              233276.0, 259341.0, 210336.0, 238389.0],\n",
       "             dtype='float64', name='userId', length=68342)"
      ]
     },
     "execution_count": 18,
     "metadata": {},
     "output_type": "execute_result"
    }
   ],
   "source": [
    "#userId of users who have rated more than 100 movies are stored in variable r\n",
    "r"
   ]
  },
  {
   "cell_type": "code",
   "execution_count": 19,
   "metadata": {},
   "outputs": [],
   "source": [
    "#filing avg.rating dataframe for each user\n",
    "iteration=0\n",
    "for j in r:\n",
    "    iteration+=1\n",
    "    temp=ratings[(ratings[\"userId\"] == j)]\n",
    "    temp2=pd.merge(temp,dummies,how='outer',on ='movieId')\n",
    "    temp2=temp2.dropna()\n",
    "    avg={}\n",
    "    for i in range(len(col)):\n",
    "        temp3=(temp2[temp2[col[i]] == 1])\n",
    "        if temp3.shape[0]==0:\n",
    "            temp5=0\n",
    "        else:\n",
    "            temp4=np.sum(temp3.rating * temp3[col[i]])\n",
    "            temp5=temp4/temp3.shape[0]\n",
    "        avg[col[i]]=temp5\n",
    "    avg['userId']=j\n",
    "    avg_rating=avg_rating.append(avg, ignore_index = True)\n",
    "    if iteration==5:\n",
    "        break"
   ]
  },
  {
   "cell_type": "code",
   "execution_count": 26,
   "metadata": {},
   "outputs": [
    {
     "data": {
      "text/html": [
       "<div>\n",
       "<style scoped>\n",
       "    .dataframe tbody tr th:only-of-type {\n",
       "        vertical-align: middle;\n",
       "    }\n",
       "\n",
       "    .dataframe tbody tr th {\n",
       "        vertical-align: top;\n",
       "    }\n",
       "\n",
       "    .dataframe thead th {\n",
       "        text-align: right;\n",
       "    }\n",
       "</style>\n",
       "<table border=\"1\" class=\"dataframe\">\n",
       "  <thead>\n",
       "    <tr style=\"text-align: right;\">\n",
       "      <th></th>\n",
       "      <th>Action</th>\n",
       "      <th>Adventure</th>\n",
       "      <th>Animation</th>\n",
       "      <th>Children</th>\n",
       "      <th>Comedy</th>\n",
       "      <th>Crime</th>\n",
       "      <th>Documentary</th>\n",
       "      <th>Drama</th>\n",
       "      <th>Fantasy</th>\n",
       "      <th>Film-Noir</th>\n",
       "      <th>Horror</th>\n",
       "      <th>IMAX</th>\n",
       "      <th>Musical</th>\n",
       "      <th>Mystery</th>\n",
       "      <th>Romance</th>\n",
       "      <th>Sci-Fi</th>\n",
       "      <th>Thriller</th>\n",
       "      <th>War</th>\n",
       "      <th>Western</th>\n",
       "      <th>userId</th>\n",
       "    </tr>\n",
       "  </thead>\n",
       "  <tbody>\n",
       "    <tr>\n",
       "      <th>0</th>\n",
       "      <td>2.975730</td>\n",
       "      <td>3.102523</td>\n",
       "      <td>3.287429</td>\n",
       "      <td>3.153435</td>\n",
       "      <td>3.065647</td>\n",
       "      <td>3.112014</td>\n",
       "      <td>3.429535</td>\n",
       "      <td>3.200078</td>\n",
       "      <td>3.059346</td>\n",
       "      <td>3.125740</td>\n",
       "      <td>2.741440</td>\n",
       "      <td>3.104027</td>\n",
       "      <td>3.245098</td>\n",
       "      <td>3.061500</td>\n",
       "      <td>3.133494</td>\n",
       "      <td>2.875280</td>\n",
       "      <td>2.955449</td>\n",
       "      <td>3.280059</td>\n",
       "      <td>3.114849</td>\n",
       "      <td>123100.0</td>\n",
       "    </tr>\n",
       "    <tr>\n",
       "      <th>1</th>\n",
       "      <td>3.218675</td>\n",
       "      <td>3.278409</td>\n",
       "      <td>3.430952</td>\n",
       "      <td>3.277123</td>\n",
       "      <td>3.198239</td>\n",
       "      <td>3.317562</td>\n",
       "      <td>3.454392</td>\n",
       "      <td>3.385017</td>\n",
       "      <td>3.323389</td>\n",
       "      <td>3.422925</td>\n",
       "      <td>2.942516</td>\n",
       "      <td>3.717742</td>\n",
       "      <td>3.225777</td>\n",
       "      <td>3.293011</td>\n",
       "      <td>3.318280</td>\n",
       "      <td>3.067864</td>\n",
       "      <td>3.284207</td>\n",
       "      <td>3.432122</td>\n",
       "      <td>3.221519</td>\n",
       "      <td>117490.0</td>\n",
       "    </tr>\n",
       "    <tr>\n",
       "      <th>2</th>\n",
       "      <td>3.037611</td>\n",
       "      <td>3.152076</td>\n",
       "      <td>3.266491</td>\n",
       "      <td>3.182584</td>\n",
       "      <td>3.146944</td>\n",
       "      <td>3.208617</td>\n",
       "      <td>3.474199</td>\n",
       "      <td>3.308800</td>\n",
       "      <td>3.140127</td>\n",
       "      <td>3.403553</td>\n",
       "      <td>2.799839</td>\n",
       "      <td>3.044444</td>\n",
       "      <td>3.263848</td>\n",
       "      <td>3.137380</td>\n",
       "      <td>3.286651</td>\n",
       "      <td>2.944948</td>\n",
       "      <td>3.039568</td>\n",
       "      <td>3.404337</td>\n",
       "      <td>3.287805</td>\n",
       "      <td>134596.0</td>\n",
       "    </tr>\n",
       "    <tr>\n",
       "      <th>3</th>\n",
       "      <td>2.451787</td>\n",
       "      <td>2.501575</td>\n",
       "      <td>2.677083</td>\n",
       "      <td>2.538462</td>\n",
       "      <td>2.475319</td>\n",
       "      <td>2.821602</td>\n",
       "      <td>2.626087</td>\n",
       "      <td>2.701088</td>\n",
       "      <td>2.367403</td>\n",
       "      <td>3.318182</td>\n",
       "      <td>2.382234</td>\n",
       "      <td>2.448864</td>\n",
       "      <td>2.613793</td>\n",
       "      <td>2.700468</td>\n",
       "      <td>2.444181</td>\n",
       "      <td>2.294896</td>\n",
       "      <td>2.648370</td>\n",
       "      <td>2.891931</td>\n",
       "      <td>2.849741</td>\n",
       "      <td>212343.0</td>\n",
       "    </tr>\n",
       "    <tr>\n",
       "      <th>4</th>\n",
       "      <td>2.880558</td>\n",
       "      <td>3.100902</td>\n",
       "      <td>3.340824</td>\n",
       "      <td>3.108200</td>\n",
       "      <td>3.048586</td>\n",
       "      <td>3.296857</td>\n",
       "      <td>3.557841</td>\n",
       "      <td>3.474390</td>\n",
       "      <td>3.180294</td>\n",
       "      <td>3.987500</td>\n",
       "      <td>2.721528</td>\n",
       "      <td>3.370370</td>\n",
       "      <td>3.375989</td>\n",
       "      <td>3.247277</td>\n",
       "      <td>3.366480</td>\n",
       "      <td>2.857595</td>\n",
       "      <td>3.059807</td>\n",
       "      <td>3.519512</td>\n",
       "      <td>3.301688</td>\n",
       "      <td>242683.0</td>\n",
       "    </tr>\n",
       "  </tbody>\n",
       "</table>\n",
       "</div>"
      ],
      "text/plain": [
       "     Action  Adventure  Animation  Children    Comedy     Crime  Documentary  \\\n",
       "0  2.975730   3.102523   3.287429  3.153435  3.065647  3.112014     3.429535   \n",
       "1  3.218675   3.278409   3.430952  3.277123  3.198239  3.317562     3.454392   \n",
       "2  3.037611   3.152076   3.266491  3.182584  3.146944  3.208617     3.474199   \n",
       "3  2.451787   2.501575   2.677083  2.538462  2.475319  2.821602     2.626087   \n",
       "4  2.880558   3.100902   3.340824  3.108200  3.048586  3.296857     3.557841   \n",
       "\n",
       "      Drama   Fantasy  Film-Noir    Horror      IMAX   Musical   Mystery  \\\n",
       "0  3.200078  3.059346   3.125740  2.741440  3.104027  3.245098  3.061500   \n",
       "1  3.385017  3.323389   3.422925  2.942516  3.717742  3.225777  3.293011   \n",
       "2  3.308800  3.140127   3.403553  2.799839  3.044444  3.263848  3.137380   \n",
       "3  2.701088  2.367403   3.318182  2.382234  2.448864  2.613793  2.700468   \n",
       "4  3.474390  3.180294   3.987500  2.721528  3.370370  3.375989  3.247277   \n",
       "\n",
       "    Romance    Sci-Fi  Thriller       War   Western    userId  \n",
       "0  3.133494  2.875280  2.955449  3.280059  3.114849  123100.0  \n",
       "1  3.318280  3.067864  3.284207  3.432122  3.221519  117490.0  \n",
       "2  3.286651  2.944948  3.039568  3.404337  3.287805  134596.0  \n",
       "3  2.444181  2.294896  2.648370  2.891931  2.849741  212343.0  \n",
       "4  3.366480  2.857595  3.059807  3.519512  3.301688  242683.0  "
      ]
     },
     "execution_count": 26,
     "metadata": {},
     "output_type": "execute_result"
    }
   ],
   "source": [
    "avg_rating.head()\n",
    "# avg_rating.to_csv('avg_rating1.csv')"
   ]
  },
  {
   "cell_type": "markdown",
   "metadata": {},
   "source": [
    "##  Clustering Data using K-Means Clustering\n",
    "<img src=\"kmean.jpg\"/>\n"
   ]
  },
  {
   "cell_type": "code",
   "execution_count": 20,
   "metadata": {},
   "outputs": [],
   "source": [
    "avg_rating=pd.read_csv('C:/Users/bobat/avg_rating.csv')\n",
    "avg_rating.drop(['Unnamed: 0'],axis=1,inplace = True)\n",
    "train=avg_rating.drop(['userId'],axis=1)"
   ]
  },
  {
   "cell_type": "markdown",
   "metadata": {},
   "source": [
    "# Deciding Number of clusters\n",
    "## Inertia->\n",
    "Inertia calculates the sum of distances of all the points within a cluster from the centroid of that cluster.\n",
    "<img src=\"inertia.jpg\"/>"
   ]
  },
  {
   "cell_type": "code",
   "execution_count": 21,
   "metadata": {},
   "outputs": [
    {
     "data": {
      "text/plain": [
       "Text(0, 0.5, 'Inertia')"
      ]
     },
     "execution_count": 21,
     "metadata": {},
     "output_type": "execute_result"
    },
    {
     "data": {
      "image/png": "[encoded data removed]",
      "text/plain": [
       "<Figure size 864x432 with 1 Axes>"
      ]
     },
     "metadata": {
      "needs_background": "light"
     },
     "output_type": "display_data"
    }
   ],
   "source": [
    "SSE = []\n",
    "for cluster in range(1,20):\n",
    "    kmeans = KMeans(n_clusters = cluster, init='k-means++')\n",
    "    kmeans.fit(train)\n",
    "    SSE.append(kmeans.inertia_)\n",
    "\n",
    "# converting the results into a dataframe and plotting them\n",
    "frame = pd.DataFrame({'Cluster':range(1,20), 'SSE':SSE})\n",
    "plt.figure(figsize=(12,6))\n",
    "plt.plot(frame['Cluster'], frame['SSE'], marker='o')\n",
    "plt.xlabel('Number of clusters')\n",
    "plt.ylabel('Inertia')"
   ]
  },
  {
   "cell_type": "code",
   "execution_count": 22,
   "metadata": {},
   "outputs": [
    {
     "data": {
      "text/plain": [
       "KMeans()"
      ]
     },
     "execution_count": 22,
     "metadata": {},
     "output_type": "execute_result"
    }
   ],
   "source": [
    "kmeans = KMeans(n_clusters = 8, init='k-means++')\n",
    "kmeans.fit(train)"
   ]
  },
  {
   "cell_type": "code",
   "execution_count": 23,
   "metadata": {},
   "outputs": [
    {
     "data": {
      "text/plain": [
       "3    15136\n",
       "1    14702\n",
       "5    10324\n",
       "4     8761\n",
       "6     7601\n",
       "0     4832\n",
       "7     3698\n",
       "2     3288\n",
       "Name: cluster, dtype: int64"
      ]
     },
     "execution_count": 23,
     "metadata": {},
     "output_type": "execute_result"
    }
   ],
   "source": [
    "labels=kmeans.labels_\n",
    "avg_rating['cluster']=labels\n",
    "avg_rating['cluster'].value_counts()"
   ]
  },
  {
   "cell_type": "code",
   "execution_count": 11,
   "metadata": {},
   "outputs": [
    {
     "data": {
      "text/html": [
       "<div>\n",
       "<style scoped>\n",
       "    .dataframe tbody tr th:only-of-type {\n",
       "        vertical-align: middle;\n",
       "    }\n",
       "\n",
       "    .dataframe tbody tr th {\n",
       "        vertical-align: top;\n",
       "    }\n",
       "\n",
       "    .dataframe thead th {\n",
       "        text-align: right;\n",
       "    }\n",
       "</style>\n",
       "<table border=\"1\" class=\"dataframe\">\n",
       "  <thead>\n",
       "    <tr style=\"text-align: right;\">\n",
       "      <th></th>\n",
       "      <th>Action</th>\n",
       "      <th>Adventure</th>\n",
       "      <th>Animation</th>\n",
       "      <th>Children</th>\n",
       "      <th>Comedy</th>\n",
       "      <th>Crime</th>\n",
       "      <th>Documentary</th>\n",
       "      <th>Drama</th>\n",
       "      <th>Fantasy</th>\n",
       "      <th>Film-Noir</th>\n",
       "      <th>...</th>\n",
       "      <th>IMAX</th>\n",
       "      <th>Musical</th>\n",
       "      <th>Mystery</th>\n",
       "      <th>Romance</th>\n",
       "      <th>Sci-Fi</th>\n",
       "      <th>Thriller</th>\n",
       "      <th>War</th>\n",
       "      <th>Western</th>\n",
       "      <th>userId</th>\n",
       "      <th>cluster</th>\n",
       "    </tr>\n",
       "  </thead>\n",
       "  <tbody>\n",
       "    <tr>\n",
       "      <th>0</th>\n",
       "      <td>2.975730</td>\n",
       "      <td>3.102523</td>\n",
       "      <td>3.287429</td>\n",
       "      <td>3.153435</td>\n",
       "      <td>3.065647</td>\n",
       "      <td>3.112014</td>\n",
       "      <td>3.429535</td>\n",
       "      <td>3.200078</td>\n",
       "      <td>3.059346</td>\n",
       "      <td>3.125740</td>\n",
       "      <td>...</td>\n",
       "      <td>3.104027</td>\n",
       "      <td>3.245098</td>\n",
       "      <td>3.061500</td>\n",
       "      <td>3.133494</td>\n",
       "      <td>2.875280</td>\n",
       "      <td>2.955449</td>\n",
       "      <td>3.280059</td>\n",
       "      <td>3.114849</td>\n",
       "      <td>123100.0</td>\n",
       "      <td>1</td>\n",
       "    </tr>\n",
       "    <tr>\n",
       "      <th>1</th>\n",
       "      <td>3.218675</td>\n",
       "      <td>3.278409</td>\n",
       "      <td>3.430952</td>\n",
       "      <td>3.277123</td>\n",
       "      <td>3.198239</td>\n",
       "      <td>3.317562</td>\n",
       "      <td>3.454392</td>\n",
       "      <td>3.385017</td>\n",
       "      <td>3.323389</td>\n",
       "      <td>3.422925</td>\n",
       "      <td>...</td>\n",
       "      <td>3.717742</td>\n",
       "      <td>3.225777</td>\n",
       "      <td>3.293011</td>\n",
       "      <td>3.318280</td>\n",
       "      <td>3.067864</td>\n",
       "      <td>3.284207</td>\n",
       "      <td>3.432122</td>\n",
       "      <td>3.221519</td>\n",
       "      <td>117490.0</td>\n",
       "      <td>1</td>\n",
       "    </tr>\n",
       "    <tr>\n",
       "      <th>2</th>\n",
       "      <td>3.037611</td>\n",
       "      <td>3.152076</td>\n",
       "      <td>3.266491</td>\n",
       "      <td>3.182584</td>\n",
       "      <td>3.146944</td>\n",
       "      <td>3.208617</td>\n",
       "      <td>3.474199</td>\n",
       "      <td>3.308800</td>\n",
       "      <td>3.140127</td>\n",
       "      <td>3.403553</td>\n",
       "      <td>...</td>\n",
       "      <td>3.044444</td>\n",
       "      <td>3.263848</td>\n",
       "      <td>3.137380</td>\n",
       "      <td>3.286651</td>\n",
       "      <td>2.944948</td>\n",
       "      <td>3.039568</td>\n",
       "      <td>3.404337</td>\n",
       "      <td>3.287805</td>\n",
       "      <td>134596.0</td>\n",
       "      <td>1</td>\n",
       "    </tr>\n",
       "    <tr>\n",
       "      <th>3</th>\n",
       "      <td>2.451787</td>\n",
       "      <td>2.501575</td>\n",
       "      <td>2.677083</td>\n",
       "      <td>2.538462</td>\n",
       "      <td>2.475319</td>\n",
       "      <td>2.821602</td>\n",
       "      <td>2.626087</td>\n",
       "      <td>2.701088</td>\n",
       "      <td>2.367403</td>\n",
       "      <td>3.318182</td>\n",
       "      <td>...</td>\n",
       "      <td>2.448864</td>\n",
       "      <td>2.613793</td>\n",
       "      <td>2.700468</td>\n",
       "      <td>2.444181</td>\n",
       "      <td>2.294896</td>\n",
       "      <td>2.648370</td>\n",
       "      <td>2.891931</td>\n",
       "      <td>2.849741</td>\n",
       "      <td>212343.0</td>\n",
       "      <td>7</td>\n",
       "    </tr>\n",
       "    <tr>\n",
       "      <th>4</th>\n",
       "      <td>2.880558</td>\n",
       "      <td>3.100902</td>\n",
       "      <td>3.340824</td>\n",
       "      <td>3.108200</td>\n",
       "      <td>3.048586</td>\n",
       "      <td>3.296857</td>\n",
       "      <td>3.557841</td>\n",
       "      <td>3.474390</td>\n",
       "      <td>3.180294</td>\n",
       "      <td>3.987500</td>\n",
       "      <td>...</td>\n",
       "      <td>3.370370</td>\n",
       "      <td>3.375989</td>\n",
       "      <td>3.247277</td>\n",
       "      <td>3.366480</td>\n",
       "      <td>2.857595</td>\n",
       "      <td>3.059807</td>\n",
       "      <td>3.519512</td>\n",
       "      <td>3.301688</td>\n",
       "      <td>242683.0</td>\n",
       "      <td>1</td>\n",
       "    </tr>\n",
       "  </tbody>\n",
       "</table>\n",
       "<p>5 rows × 21 columns</p>\n",
       "</div>"
      ],
      "text/plain": [
       "     Action  Adventure  Animation  Children    Comedy     Crime  Documentary  \\\n",
       "0  2.975730   3.102523   3.287429  3.153435  3.065647  3.112014     3.429535   \n",
       "1  3.218675   3.278409   3.430952  3.277123  3.198239  3.317562     3.454392   \n",
       "2  3.037611   3.152076   3.266491  3.182584  3.146944  3.208617     3.474199   \n",
       "3  2.451787   2.501575   2.677083  2.538462  2.475319  2.821602     2.626087   \n",
       "4  2.880558   3.100902   3.340824  3.108200  3.048586  3.296857     3.557841   \n",
       "\n",
       "      Drama   Fantasy  Film-Noir  ...      IMAX   Musical   Mystery   Romance  \\\n",
       "0  3.200078  3.059346   3.125740  ...  3.104027  3.245098  3.061500  3.133494   \n",
       "1  3.385017  3.323389   3.422925  ...  3.717742  3.225777  3.293011  3.318280   \n",
       "2  3.308800  3.140127   3.403553  ...  3.044444  3.263848  3.137380  3.286651   \n",
       "3  2.701088  2.367403   3.318182  ...  2.448864  2.613793  2.700468  2.444181   \n",
       "4  3.474390  3.180294   3.987500  ...  3.370370  3.375989  3.247277  3.366480   \n",
       "\n",
       "     Sci-Fi  Thriller       War   Western    userId  cluster  \n",
       "0  2.875280  2.955449  3.280059  3.114849  123100.0        1  \n",
       "1  3.067864  3.284207  3.432122  3.221519  117490.0        1  \n",
       "2  2.944948  3.039568  3.404337  3.287805  134596.0        1  \n",
       "3  2.294896  2.648370  2.891931  2.849741  212343.0        7  \n",
       "4  2.857595  3.059807  3.519512  3.301688  242683.0        1  \n",
       "\n",
       "[5 rows x 21 columns]"
      ]
     },
     "execution_count": 11,
     "metadata": {},
     "output_type": "execute_result"
    }
   ],
   "source": [
    "avg_rating.head()"
   ]
  },
  {
   "cell_type": "markdown",
   "metadata": {},
   "source": [
    "# Takin input from user\n"
   ]
  },
  {
   "cell_type": "code",
   "execution_count": 24,
   "metadata": {},
   "outputs": [],
   "source": [
    "#Reading Dataset\n",
    "movies=pd.read_csv('D:/2nd Sem/PatternRecog/Project/ml-latest/ml-latest/movies.csv')\n",
    "ratings=pd.read_csv('D:/2nd Sem/PatternRecog/Project/ml-latest/ml-latest/ratings.csv')\n",
    "ratings=ratings.drop(['timestamp'],axis=1)\n",
    "\n",
    "#taking rating from user of some popular movies with different genres\n",
    "def user_input():\n",
    "    \n",
    "    #seperating genres into diff columns\n",
    "    dummies = movies['genres'].str.get_dummies()\n",
    "    dummies=movies.join(dummies)\n",
    "    #removing column that r not req.\n",
    "    dummies.drop(['genres','title','(no genres listed)'],axis=1,inplace = True)\n",
    "    \n",
    "    #merging ratings and movies dataframe\n",
    "    data=pd.merge(ratings,movies,how='outer',on ='movieId')\n",
    "    data=data.dropna()\n",
    "    \n",
    "    # stats to find movies with most ratings i.e. popular movies\n",
    "    movie_stats = data.groupby('title').agg({'rating': [np.size, np.mean]})\n",
    "    movie_stats = movie_stats.sort_values([('rating','size')],ascending=False)\n",
    "    \n",
    "    #top 100 movies with most ratings\n",
    "    m=movie_stats[:100]\n",
    "    m=m.index\n",
    "    m1=pd.DataFrame(m)\n",
    "    temp=pd.merge(m1,movies,how='outer',on ='title')\n",
    "    temp=temp.dropna()\n",
    "    \n",
    "    #taking some movies among top100 movies to take input rating from user\n",
    "    temp2=temp[temp['movieId']==1]\n",
    "    temp2=temp2.append(temp[temp['movieId']==480])\n",
    "    temp2=temp2.append(temp[temp['movieId']==527])\n",
    "    temp2=temp2.append(temp[temp['movieId']==364])\n",
    "    temp2=temp2.append(temp[temp['movieId']==1617])\n",
    "    temp2=temp2.append(temp[temp['movieId']==593])\n",
    "    temp2=temp2.append(temp[temp['movieId']==1721])\n",
    "    temp2=temp2.append(temp[temp['title']=='Planet Earth (2006)'])\n",
    "    temp2=temp2.append(temp[temp['movieId']==163])\n",
    "    temp3=temp2.index\n",
    "    \n",
    "    val=[]\n",
    "    for i in range(9):\n",
    "        t=float(input('Rate the movie from 1-5:  \"{}\" [{}]   --->'.format(temp2.iat[i,0],temp2.iat[i,2])))\n",
    "        val.append(t)\n",
    "        \n",
    "    #taking rating given by user in diff dataframe\n",
    "    input1=dummies[dummies['movieId']==1]\n",
    "    input1=input1.append(dummies[dummies['movieId']==480])\n",
    "    input1=input1.append(dummies[dummies['movieId']==527])\n",
    "    input1=input1.append(dummies[dummies['movieId']==364])\n",
    "    input1=input1.append(dummies[dummies['movieId']==1617])\n",
    "    input1=input1.append(dummies[dummies['movieId']==593])\n",
    "    input1=input1.append(dummies[dummies['movieId']==1721])\n",
    "    input1=input1.append(dummies[dummies['movieId']==159817])\n",
    "    input1=input1.append(dummies[dummies['movieId']==163])\n",
    "    input1['rating']=val\n",
    "    \n",
    "    \n",
    "    #find avg rating for each genre\n",
    "    col=dummies.drop(['movieId'],axis=1,inplace = True)\n",
    "    col=dummies.columns\n",
    "    avg={}\n",
    "    for i in range(len(col)):\n",
    "        temp3=(input1[input1[col[i]] == 1])\n",
    "        if temp3.shape[0]==0:\n",
    "            temp5=0\n",
    "        else:\n",
    "            temp4=np.sum(temp3.rating * temp3[col[i]])\n",
    "            temp5=temp4/temp3.shape[0]\n",
    "        avg[col[i]]=temp5\n",
    "    test1=pd.DataFrame(columns = col)\n",
    "    test1=test1.append(avg, ignore_index = True)\n",
    "    \n",
    "    return test1"
   ]
  },
  {
   "cell_type": "code",
   "execution_count": 25,
   "metadata": {},
   "outputs": [
    {
     "name": "stdout",
     "output_type": "stream",
     "text": [
      "Rate the movie from 1-5:  \"Toy Story (1995)\" [Adventure|Animation|Children|Comedy|Fantasy]   --->5\n",
      "Rate the movie from 1-5:  \"Jurassic Park (1993)\" [Action|Adventure|Sci-Fi|Thriller]   --->4\n",
      "Rate the movie from 1-5:  \"Schindler's List (1993)\" [Drama|War]   --->4\n",
      "Rate the movie from 1-5:  \"Lion King, The (1994)\" [Adventure|Animation|Children|Drama|Musical|IMAX]   --->4\n",
      "Rate the movie from 1-5:  \"L.A. Confidential (1997)\" [Crime|Film-Noir|Mystery|Thriller]   --->2\n",
      "Rate the movie from 1-5:  \"Silence of the Lambs, The (1991)\" [Crime|Horror|Thriller]   --->2\n",
      "Rate the movie from 1-5:  \"Titanic (1997)\" [Drama|Romance]   --->5\n",
      "Rate the movie from 1-5:  \"Planet Earth (2006)\" [Documentary]   --->5\n",
      "Rate the movie from 1-5:  \"Desperado (1995)\" [Action|Romance|Western]   --->2\n"
     ]
    }
   ],
   "source": [
    "#taking input and storing in test variable\n",
    "test=user_input()"
   ]
  },
  {
   "cell_type": "code",
   "execution_count": 26,
   "metadata": {},
   "outputs": [
    {
     "data": {
      "text/html": [
       "<div>\n",
       "<style scoped>\n",
       "    .dataframe tbody tr th:only-of-type {\n",
       "        vertical-align: middle;\n",
       "    }\n",
       "\n",
       "    .dataframe tbody tr th {\n",
       "        vertical-align: top;\n",
       "    }\n",
       "\n",
       "    .dataframe thead th {\n",
       "        text-align: right;\n",
       "    }\n",
       "</style>\n",
       "<table border=\"1\" class=\"dataframe\">\n",
       "  <thead>\n",
       "    <tr style=\"text-align: right;\">\n",
       "      <th></th>\n",
       "      <th>Action</th>\n",
       "      <th>Adventure</th>\n",
       "      <th>Animation</th>\n",
       "      <th>Children</th>\n",
       "      <th>Comedy</th>\n",
       "      <th>Crime</th>\n",
       "      <th>Documentary</th>\n",
       "      <th>Drama</th>\n",
       "      <th>Fantasy</th>\n",
       "      <th>Film-Noir</th>\n",
       "      <th>Horror</th>\n",
       "      <th>IMAX</th>\n",
       "      <th>Musical</th>\n",
       "      <th>Mystery</th>\n",
       "      <th>Romance</th>\n",
       "      <th>Sci-Fi</th>\n",
       "      <th>Thriller</th>\n",
       "      <th>War</th>\n",
       "      <th>Western</th>\n",
       "    </tr>\n",
       "  </thead>\n",
       "  <tbody>\n",
       "    <tr>\n",
       "      <th>0</th>\n",
       "      <td>3.0</td>\n",
       "      <td>4.333333</td>\n",
       "      <td>4.5</td>\n",
       "      <td>4.5</td>\n",
       "      <td>5.0</td>\n",
       "      <td>2.0</td>\n",
       "      <td>5.0</td>\n",
       "      <td>4.333333</td>\n",
       "      <td>5.0</td>\n",
       "      <td>2.0</td>\n",
       "      <td>2.0</td>\n",
       "      <td>4.0</td>\n",
       "      <td>4.0</td>\n",
       "      <td>2.0</td>\n",
       "      <td>3.5</td>\n",
       "      <td>4.0</td>\n",
       "      <td>2.666667</td>\n",
       "      <td>4.0</td>\n",
       "      <td>2.0</td>\n",
       "    </tr>\n",
       "  </tbody>\n",
       "</table>\n",
       "</div>"
      ],
      "text/plain": [
       "   Action  Adventure  Animation  Children  Comedy  Crime  Documentary  \\\n",
       "0     3.0   4.333333        4.5       4.5     5.0    2.0          5.0   \n",
       "\n",
       "      Drama  Fantasy  Film-Noir  Horror  IMAX  Musical  Mystery  Romance  \\\n",
       "0  4.333333      5.0        2.0     2.0   4.0      4.0      2.0      3.5   \n",
       "\n",
       "   Sci-Fi  Thriller  War  Western  \n",
       "0     4.0  2.666667  4.0      2.0  "
      ]
     },
     "execution_count": 26,
     "metadata": {},
     "output_type": "execute_result"
    }
   ],
   "source": [
    "test"
   ]
  },
  {
   "cell_type": "code",
   "execution_count": 27,
   "metadata": {},
   "outputs": [
    {
     "name": "stdout",
     "output_type": "stream",
     "text": [
      "User belongs to cluster 6\n"
     ]
    }
   ],
   "source": [
    "y=kmeans.predict(test)\n",
    "print('User belongs to cluster {}'.format(y[0]))"
   ]
  },
  {
   "cell_type": "code",
   "execution_count": 28,
   "metadata": {},
   "outputs": [],
   "source": [
    "def reccomend(test):\n",
    "\n",
    "    #finding to which cluster user belong to based on input\n",
    "    y=kmeans.predict(test)\n",
    "    #GEtting top 10 movies based on cluster to which user belong\n",
    "    clus=(avg_rating[avg_rating['cluster']==y[0]])\n",
    "    #taking user id of users to which input usercluster  belong\n",
    "    user=clus['userId']\n",
    "    user=pd.DataFrame(user)\n",
    "    movie_rating_0=pd.merge(user,ratings,how='inner',on ='userId')\n",
    "    movie_rating_0=movie_rating_0.dropna()\n",
    "    movie_stats_0 = movie_rating_0.groupby('movieId').agg({'rating': [np.size, np.mean]})\n",
    "    movie_stats_0 = movie_stats_0.sort_values([('rating','mean')],ascending=False)\n",
    "    top_movies_0=movie_stats_0[ movie_stats_0[('rating','size')]>5]\n",
    "    top_mov_id_0=top_movies_0.index\n",
    "    top10=top_mov_id_0[:10]\n",
    "    \n",
    "    \n",
    "    for i in range(10):\n",
    "        p=movies.loc[movies['movieId'] == top10[i], 'title'].iloc[0]\n",
    "        print('{} recommendation : {}'.format(i+1,p))"
   ]
  },
  {
   "cell_type": "code",
   "execution_count": 29,
   "metadata": {},
   "outputs": [
    {
     "name": "stdout",
     "output_type": "stream",
     "text": [
      "1 recommendation : Midnight Dancers (Sibak) (1994)\n",
      "2 recommendation : Forbidden Christ, The (Cristo proibito, Il) (1950)\n",
      "3 recommendation : Entertaining Angels: The Dorothy Day Story (1996)\n",
      "4 recommendation : Get Over It (1996)\n",
      "5 recommendation : Sweet Nothing (1996)\n",
      "6 recommendation : Brother of Sleep (Schlafes Bruder) (1995)\n",
      "7 recommendation : Hamlet (2009)\n",
      "8 recommendation : For the Moment (1994)\n",
      "9 recommendation : North Star (a.k.a. Tashunga) (1995)\n",
      "10 recommendation : Alice (Neco z Alenky) (1988)\n"
     ]
    }
   ],
   "source": [
    "reccomend(test)"
   ]
  },
  {
   "cell_type": "code",
   "execution_count": null,
   "metadata": {},
   "outputs": [],
   "source": []
  }
 ],
 "metadata": {
  "kernelspec": {
   "display_name": "Python 3",
   "language": "python",
   "name": "python3"
  },
  "language_info": {
   "codemirror_mode": {
    "name": "ipython",
    "version": 3
   },
   "file_extension": ".py",
   "mimetype": "text/x-python",
   "name": "python",
   "nbconvert_exporter": "python",
   "pygments_lexer": "ipython3",
   "version": "3.8.3"
  }
 },
 "nbformat": 4,
 "nbformat_minor": 4
}
